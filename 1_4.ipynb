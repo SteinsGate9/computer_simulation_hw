{
 "cells": [
  {
   "cell_type": "markdown",
   "metadata": {},
   "source": [
    "# Assignment 4\n",
    "\n",
    "### 黄士诚\n",
    "\n",
    "### 3160103847\n",
    "\n",
    "### 序号：1"
   ]
  },
  {
   "cell_type": "markdown",
   "metadata": {},
   "source": [
    "$$ \\lim\\limits_{n\\to \\infty}\\; corr[\\hat{\\lambda}_n,V[\\hat{\\lambda}_n]] = \\begin{cases}\n",
    "     1 & 若0\\leq \\lambda < \\frac{1}{2}\\\\ \n",
    "     0 &  若\\lambda = \\frac{1}{2}\\\\ \n",
    "     -1 & 若\\frac{1}{2} < \\lambda \\leq 1.\n",
    "    \\end{cases} \n",
    "$$\n",
    "\n",
    "上面的结果会导致什么后果？解释为何标准误差$\\sqrt{V[\\hat{\\lambda}_n]} $不是一个好的误差估计，并用程序验证你的结论"
   ]
  },
  {
   "cell_type": "markdown",
   "metadata": {},
   "source": [
    "答：一个好的估计值并不应该和参数有太多关系，这个$\\hat{\\lambda}_n 与V[\\hat{\\lambda}_n]$之间却是有强相关的关系。也就是说n趋于正无穷的时候，这个估计值和$\\hat{\\lambda}_n$在部分区域有接近正相关或者负相关的关系，这是不好的。"
   ]
  },
  {
   "cell_type": "markdown",
   "metadata": {},
   "source": [
    "1) import settings"
   ]
  },
  {
   "cell_type": "code",
   "execution_count": 1,
   "metadata": {},
   "outputs": [],
   "source": [
    "import numpy as np \n",
    "import matplotlib.pyplot as plt"
   ]
  },
  {
   "cell_type": "markdown",
   "metadata": {},
   "source": [
    "2) define functions   "
   ]
  },
  {
   "cell_type": "code",
   "execution_count": 7,
   "metadata": {},
   "outputs": [],
   "source": [
    "def xbar(x):\n",
    "    # 样本均值\n",
    "    return np.sum(x)/len(x)\n",
    "def s2(x):\n",
    "    # 样本方差\n",
    "    xb=xbar(x)\n",
    "    return np.linalg.norm(x-np.full(len(x),xb),2)**2/(len(x)-1)\n",
    "def square_circle(pro,times):\n",
    "    inside = 0\n",
    "    dots = np.random.rand(2, times)\n",
    "    for i in range(times):\n",
    "        x = dots[0, i] - 0.5\n",
    "        y = dots[1, i] - 0.5\n",
    "        if np.abs(x) < np.sqrt(pro)/2 and np.abs(y) < np.sqrt(pro)/2 :\n",
    "            inside += 1\n",
    "    #这里为了方便取了误差的平方，所以后面就不用取根号了\n",
    "    error = np.abs((inside / times)-pro)**2\n",
    "    return inside / times, error"
   ]
  },
  {
   "cell_type": "markdown",
   "metadata": {},
   "source": [
    "3) set n = 100000"
   ]
  },
  {
   "cell_type": "code",
   "execution_count": 3,
   "metadata": {},
   "outputs": [
    {
     "name": "stdout",
     "output_type": "stream",
     "text": [
      "100000\n"
     ]
    }
   ],
   "source": [
    "n = 100000\n",
    "print(n)\n"
   ]
  },
  {
   "cell_type": "markdown",
   "metadata": {},
   "source": [
    "4) 对 n = 100000 的情况画一个图，图的下标是$\\lambda$也就是投进概率，  \n",
    "  三条线分别是 样本误差($\\lambda-\\hat{\\lambda}_n$)、总体方差的无偏估计($V[\\hat{\\lambda}_n])$、总体方差($Var[\\hat{\\lambda}_n])$ 。  \n",
    "  这后面两条线都可以用来估计MC方法的方差，因为MC方法是无偏的，也就是可以估计MC方法的误差"
   ]
  },
  {
   "cell_type": "code",
   "execution_count": 6,
   "metadata": {
    "scrolled": true
   },
   "outputs": [
    {
     "name": "stdout",
     "output_type": "stream",
     "text": [
      "取lambda = 0.499的情况看一下,即使n趋于正无穷，误差依然很大\n",
      "lam_v-estimation = 0.0000025000\n",
      "true-variance = 0.0000025000\n"
     ]
    },
    {
     "data": {
      "image/png": "[encoded data removed]",
      "text/plain": [
       "<Figure size 432x288 with 1 Axes>"
      ]
     },
     "metadata": {},
     "output_type": "display_data"
    }
   ],
   "source": [
    "pro = 0.499\n",
    "# 遍历lambda 作图\n",
    "for i in np.arange(0.01, 1, 0.01):\n",
    "    # sn=s/n  su=sum\n",
    "    sn, su = square_circle(i ,n)\n",
    "    lis = []\n",
    "    if i == 0.01:\n",
    "        plt.plot(i, su, 'r.', label=r'abs-error')\n",
    "        plt.plot(i, sn*(1-sn)/(n-1), 'b.',label=r\"lam_v-estimate\")\n",
    "        plt.plot(i, i*(1-i)/n, 'g.',label=r\"true-variance\")\n",
    "    plt.plot(i, su, 'r.')\n",
    "    plt.plot(i, sn*(1-sn)/(n-1), 'b.')\n",
    "    plt.plot(i, i*(1-i)/n, 'g.')\n",
    "             \n",
    "plt.legend()\n",
    "plt.savefig(\"variation.pdf\")\n",
    "\n",
    "# 对lambda = 0.499的情况取一个值看一下\n",
    "sn, su = square_circle(pro, n)\n",
    "print('取lambda = 0.499的情况看一下,即使n趋于正无穷，误差依然很大')\n",
    "print(\"lam_v-estimation = %.10f\"%(sn*(1-sn)/(n-1)))\n",
    "print(\"true-variance = %.10f\"%(pro*(1-pro)/n))"
   ]
  },
  {
   "cell_type": "markdown",
   "metadata": {},
   "source": [
    "5)  \n",
    "蓝色的线是要评测的估计方法，绿色的线是真实的方差，蓝色的线是为了估测绿色的线的，绿色是为了估计红色的。  \n",
    "从这个图来看，蓝色绿色基本重合，他们都会随$\\lambda$变化而变化，而真实的误差是随机的。  \n",
    "结论： 这意味着估计的误差会随着$\\lambda$的增大而增大或者减小，这个估计并不好。因为一般来讲，误差应该和$\\lambda$没关系的。而且有一个问题是即使是方差也是和$\\lambda$有关的，也不能反映真实的误差情况。所以这个误差估计并不给力。  \n",
    "原因： 因为这个估计值除了和n有关，和$\\lambda$也有关\n"
   ]
  },
  {
   "cell_type": "markdown",
   "metadata": {},
   "source": [
    "6)以下为了证明相关性，分别画出在$\\lambda$在三个区域的时候,$\\hat{\\lambda}_n,V[\\hat{\\lambda}_n]$的散点图"
   ]
  },
  {
   "cell_type": "code",
   "execution_count": 24,
   "metadata": {},
   "outputs": [],
   "source": [
    "# 随机投点+返回标准差\n",
    "def MC_circle(times,s):\n",
    "    inside = 0\n",
    "    dots = np.random.rand(2, times)\n",
    "    for i in range(times):\n",
    "        x = dots[0, i] - 0.5\n",
    "        y = dots[1, i] - 0.5\n",
    "        if x * x + y * y <= (s / np.pi):\n",
    "            inside += 1\n",
    "    std = np.sqrt((inside / times)*(1 - inside /times)/(times - 1))\n",
    "    return inside / times, std"
   ]
  },
  {
   "cell_type": "code",
   "execution_count": 19,
   "metadata": {},
   "outputs": [
    {
     "data": {
      "image/png": "[encoded data removed]",
      "text/plain": [
       "<Figure size 432x288 with 1 Axes>"
      ]
     },
     "metadata": {},
     "output_type": "display_data"
    }
   ],
   "source": [
    "for i in range(100):\n",
    "    a1,a2 = MC_circle(n,0.1)\n",
    "    plt.plot(a1,a2,'r.')"
   ]
  },
  {
   "cell_type": "markdown",
   "metadata": {},
   "source": [
    "在$\\lambda$ < 1/2时候呈现正相关"
   ]
  },
  {
   "cell_type": "code",
   "execution_count": 20,
   "metadata": {},
   "outputs": [
    {
     "data": {
      "image/png": "[encoded data removed]",
      "text/plain": [
       "<Figure size 432x288 with 1 Axes>"
      ]
     },
     "metadata": {},
     "output_type": "display_data"
    }
   ],
   "source": [
    "for i in range(100):\n",
    "    a1,a2 = MC_circle(n,0.8)\n",
    "    plt.plot(a1,a2,'r.')"
   ]
  },
  {
   "cell_type": "markdown",
   "metadata": {},
   "source": [
    "在$\\lambda$ > 1/2时候呈现负相关"
   ]
  },
  {
   "cell_type": "code",
   "execution_count": 25,
   "metadata": {},
   "outputs": [
    {
     "data": {
      "image/png": "[encoded data removed]",
      "text/plain": [
       "<Figure size 432x288 with 1 Axes>"
      ]
     },
     "metadata": {},
     "output_type": "display_data"
    }
   ],
   "source": [
    "for i in range(100):\n",
    "    a1,a2 = MC_circle(n,0.5)\n",
    "    plt.plot(a1,a2,'r.')"
   ]
  },
  {
   "cell_type": "markdown",
   "metadata": {},
   "source": [
    "在$\\lambda$ =  1/2时候呈现非正\\负相关，也就是相关系数为0的情形"
   ]
  },
  {
   "cell_type": "code",
   "execution_count": null,
   "metadata": {},
   "outputs": [],
   "source": []
  }
 ],
 "metadata": {
  "kernelspec": {
   "display_name": "Python 3",
   "language": "python",
   "name": "python3"
  },
  "language_info": {
   "codemirror_mode": {
    "name": "ipython",
    "version": 3
   },
   "file_extension": ".py",
   "mimetype": "text/x-python",
   "name": "python",
   "nbconvert_exporter": "python",
   "pygments_lexer": "ipython3",
   "version": "3.6.5"
  }
 },
 "nbformat": 4,
 "nbformat_minor": 2
}
