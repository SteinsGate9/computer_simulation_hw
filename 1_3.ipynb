{
 "cells": [
  {
   "cell_type": "markdown",
   "metadata": {},
   "source": [
    "Solution 1"
   ]
  },
  {
   "cell_type": "markdown",
   "metadata": {},
   "source": [
    "$P(S_L) = \\int_{0}^{\\infty}max(0,g_L(x))h(x)dx\\\\\n",
    "       = \\int_{0}^{\\sqrt2+1}(1-(x-1)^2/2)e^{-x}dx  \\\\\n",
    "       = \\int_{0}^{\\sqrt2+1}e^{-x}dx/2 - \\int_{0}^{\\sqrt2+1}e^{-x}x^2dx/2 + \\int_{0}^{\\sqrt2+1}e^{-x}xdx  \\\\\n",
    "       =1/2-1/2e^{-a}+1/2e^{-a}a^2-1+a+2e^{-a}+1-a-2e^{-a} \\\\ \n",
    "       =1/2 +1/2(e^{-a}(a^2-1))  \\\\\n",
    "       =1/2+(1+\\sqrt2)e^{-1-\\sqrt2}\\\\\n",
    "       \\approx 0.7159 \\\\ $  \n",
    "       \n",
    "$P(S_U) = \\int_{0}^{\\infty}min(1,g_U(x))h(x)dx\\\\\n",
    "       = \\int_{0}^{3}(1-(x-1)^2/2+(x-1)^4/8)e^{-x}dx  + \\int_{3}^{\\infty}e^{-x}dx\\\\\n",
    "       \\overset{useP(S_L)}{=} 1/2 +1/2(e^{-a}(a^2-1)) + \\int_{-1}^{2}x^4/8*e^{-x}dx + e^{-3} \\\\\n",
    "       = 1/2 +1/2(e^{-3}*8) + 9/8 - 21/e^3 + e^{-3}\\\\\n",
    "       = 13/8 -17e^{-3} + e^{-3}\\\\\n",
    "       = 13/8 -16e^{-3}\\\\\n",
    "       \\approx 0.8284 \\\\ $\n",
    "  "
   ]
  },
  {
   "cell_type": "markdown",
   "metadata": {},
   "source": [
    "Solution 2"
   ]
  },
  {
   "cell_type": "markdown",
   "metadata": {},
   "source": [
    "1) Import settings"
   ]
  },
  {
   "cell_type": "code",
   "execution_count": 1,
   "metadata": {},
   "outputs": [],
   "source": [
    "from __future__ import print_function, division\n",
    "\n",
    "%matplotlib inline\n",
    "import warnings\n",
    "warnings.filterwarnings('ignore')\n",
    "from scipy.special import comb, perm\n",
    "from scipy import stats\n",
    "import numpy as np\n",
    "import sys\n",
    "import matplotlib.pyplot as plt\n",
    "np.random.seed(250)\n"
   ]
  },
  {
   "cell_type": "markdown",
   "metadata": {},
   "source": [
    "2) Define function"
   ]
  },
  {
   "cell_type": "code",
   "execution_count": 2,
   "metadata": {},
   "outputs": [],
   "source": [
    "\n",
    "def sample_half_v3(N):\n",
    "# N, 实际采样数\n",
    "    k = 0  # 实际接受总数\n",
    "    n = 0  # 实际计算g次数\n",
    "    U = np.random.rand(N)  # 产生均匀分布\n",
    "    X = [-np.log(u) for u in U]  # 产生服从h的随机变量X\n",
    "    GL = [(1-(x-1)**2/2) for x in X]\n",
    "    GU = [(1-(x-1)**2/2+(x-1)**4/8) for x in X]\n",
    "    U = np.random.rand(N)  # 再次产生均匀分布\n",
    "    for i in range(N):\n",
    "        if U[i] <= GL[i]:  # 在gL发生的条件下接受\n",
    "            X[k] = X[i]\n",
    "            k = k + 1\n",
    "        elif U[i] <= GU[i]:\n",
    "            n = n + 1 # 计算g(X)\n",
    "            if U[i] <= np.exp(-(X[i]-1)**2/2):\n",
    "                X[k] = X[i]\n",
    "                k = k + 1\n",
    "    return k, X, n"
   ]
  },
  {
   "cell_type": "markdown",
   "metadata": {},
   "source": [
    "3) Test and plot"
   ]
  },
  {
   "cell_type": "code",
   "execution_count": 5,
   "metadata": {},
   "outputs": [
    {
     "name": "stdout",
     "output_type": "stream",
     "text": [
      "Total calculate frequency:0.112548 vs theoriatical frequency 0.1125\n"
     ]
    },
    {
     "data": {
      "text/plain": [
       "Text(0.5,0,'Half Normal Distribution Samples Produced by 夹逼 Method')"
      ]
     },
     "execution_count": 5,
     "metadata": {},
     "output_type": "execute_result"
    },
    {
     "data": {
      "image/png": "[encoded data removed]",
      "text/plain": [
       "<Figure size 432x288 with 1 Axes>"
      ]
     },
     "metadata": {},
     "output_type": "display_data"
    }
   ],
   "source": [
    "N = 1000000\n",
    "k, X, n= sample_half_v3(N)\n",
    "print(r\"Total calculate frequency:%s vs theoriatical frequency 0.1125\"%(n/N))\n",
    "x = np.linspace(0,6,10000)\n",
    "plt.hist(X[0:k], bins=50, normed=True, label=r\"Stat\");\n",
    "plt.plot(x,np.sqrt(2/np.pi)*np.exp(-x**2/2), label=r\"PDF\")\n",
    "plt.legend()\n",
    "plt.xlabel(r\"Half Normal Distribution Samples Produced by 夹逼 Method\")"
   ]
  },
  {
   "cell_type": "raw",
   "metadata": {},
   "source": [
    "结论：  \n",
    "1）可以看到，夹逼得到的密度曲线和实际的pdf非常接近，可以说用  \n",
    "夹逼方法可以得到很好的抽样效果  \n",
    "2）可以看到，计算的频率是0.1125，和实际的0.1125还差很少一点，这个误差  \n",
    "可以说是完全ok的了，那么这个方法可以说是即满足了抽样的分布要求，又有近10  \n",
    "倍的效率提高"
   ]
  },
  {
   "cell_type": "code",
   "execution_count": null,
   "metadata": {},
   "outputs": [],
   "source": []
  }
 ],
 "metadata": {
  "kernelspec": {
   "display_name": "Python 3",
   "language": "python",
   "name": "python3"
  },
  "language_info": {
   "codemirror_mode": {
    "name": "ipython",
    "version": 3
   },
   "file_extension": ".py",
   "mimetype": "text/x-python",
   "name": "python",
   "nbconvert_exporter": "python",
   "pygments_lexer": "ipython3",
   "version": "3.6.5"
  }
 },
 "nbformat": 4,
 "nbformat_minor": 2
}
