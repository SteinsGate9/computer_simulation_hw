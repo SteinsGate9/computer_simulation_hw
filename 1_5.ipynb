{
 "cells": [
  {
   "cell_type": "markdown",
   "metadata": {},
   "source": [
    "\n",
    "\n",
    "# Assignment 5\n",
    "\n",
    "### 黄士诚\n",
    "\n",
    "### 3160103847\n",
    "\n",
    "### 序号：1\n"
   ]
  },
  {
   "cell_type": "markdown",
   "metadata": {},
   "source": [
    "#### 一、画心形曲线"
   ]
  },
  {
   "cell_type": "code",
   "execution_count": 3,
   "metadata": {},
   "outputs": [],
   "source": [
    "import numpy as np \n",
    "import matplotlib.pyplot as plt"
   ]
  },
  {
   "cell_type": "code",
   "execution_count": 4,
   "metadata": {},
   "outputs": [
    {
     "data": {
      "image/png": "[encoded data removed]",
      "text/plain": [
       "<Figure size 432x288 with 1 Axes>"
      ]
     },
     "metadata": {},
     "output_type": "display_data"
    }
   ],
   "source": [
    "X = []\n",
    "Y = []\n",
    "def print_heart():\n",
    "    a=np.arange(0.00, 2*np.pi, 0.001)\n",
    "    for t in a:\n",
    "        X.append(2*np.cos(t) - np.cos(2*t))\n",
    "        Y.append(2*np.sin(t) - np.sin(2*t))\n",
    "    plt.plot(X,Y)\n",
    "    plt.show()\n",
    "print_heart()\n"
   ]
  },
  {
   "cell_type": "markdown",
   "metadata": {},
   "source": [
    "#### 二、MC方法计算面积以及分析   \n",
    "###### 法一：利用y的已知值求x的两个交点判断是否在区域内"
   ]
  },
  {
   "cell_type": "code",
   "execution_count": 7,
   "metadata": {},
   "outputs": [
    {
     "data": {
      "text/plain": [
       "2*(2*b**2 - b - 1)/sqrt(-b**2 + 1)"
      ]
     },
     "execution_count": 7,
     "metadata": {},
     "output_type": "execute_result"
    }
   ],
   "source": [
    "n = 10000\n",
    "import sympy as sym\n",
    "a, b = sym.symbols('a,b', positive=True)\n",
    "y = 2*sym.sqrt(1-b**2)*(1-b)\n",
    "sym.simplify(sym.diff(y, b))"
   ]
  },
  {
   "cell_type": "markdown",
   "metadata": {},
   "source": [
    "sym.simplify(sym.diff(y,b,2))"
   ]
  },
  {
   "cell_type": "markdown",
   "metadata": {},
   "source": [
    "利用二分法和牛顿法求根（求x的两个交点）"
   ]
  },
  {
   "cell_type": "code",
   "execution_count": 8,
   "metadata": {},
   "outputs": [],
   "source": [
    "def bisection_root(z1, z2, err, tol, sim, y):\n",
    "    while (True):\n",
    "        f1 = func (z1, sim, y)\n",
    "        if np.abs(f1) < tol:\n",
    "            return z1\n",
    "        z = (z1 + z2) * 0.5\n",
    "        fz = func (z, sim, y)\n",
    "        if np.abs(fz) < tol:\n",
    "            return z\n",
    "        if fz * f1 < 0:\n",
    "            z2 = z\n",
    "        else:\n",
    "            z1 = z\n",
    "        z = (z1 + z2) * 0.5\n",
    "        if (np.abs(z1 - z2) < err):\n",
    "            return z\n",
    "        \n",
    "def func(b,sim,y):\n",
    "    return sim*2*np.sqrt(1-b**2)*(1-b)-y\n",
    "\n",
    "def dfunc(b,sim):\n",
    "    return sim*2*(2*b**2 - b - 1)/np.sqrt(-b**2 + 1)\n",
    "\n",
    "def Newton(tol, MAX_IT, sim, theta,y):\n",
    "    theta0 = theta\n",
    "    err = np.abs(func(theta0,sim,y))\n",
    "    k = 0\n",
    "    while err > tol :\n",
    "        theta1 = theta0 - func(theta0,sim,y) / dfunc(theta0, sim)\n",
    "        theta0 = theta1\n",
    "        err = np.abs(func(theta0,sim,y))\n",
    "        k = k + 1\n",
    "        if k > MAX_IT:\n",
    "            print (\"Disconvergence!\")\n",
    "            theta0 = -100\n",
    "            break\n",
    "\n",
    "    return theta0\n"
   ]
  },
  {
   "cell_type": "code",
   "execution_count": 9,
   "metadata": {
    "scrolled": true
   },
   "outputs": [
    {
     "name": "stderr",
     "output_type": "stream",
     "text": [
      "F:\\ana36\\lib\\site-packages\\ipykernel_launcher.py:20: RuntimeWarning: invalid value encountered in double_scalars\n"
     ]
    },
    {
     "data": {
      "text/plain": [
       "18.7992"
      ]
     },
     "execution_count": 9,
     "metadata": {},
     "output_type": "execute_result"
    }
   ],
   "source": [
    "def find_mm(y):\n",
    "    theta = 0\n",
    "    sim = 1 if y >= 0 else -1 \n",
    "    b1 = bisection_root(-1/2, 1, 1e-10, 1e-15, sim, y)\n",
    "    b2 = bisection_root(-1,-1/2, 1e-10, 1e-15, sim, y)\n",
    "   # b1 = Newton(1e-15, 10, sim, b1, y)\n",
    "   # b2 = Newton(1e-15, 10, sim, b2, y)\n",
    "    if b2 > 1 or b1 < -1 or b1 == -100 or b2 == -100:\n",
    "        return None,None\n",
    "    x1 = 2*b1 + 1 - 2*b1**2\n",
    "    x2 = 2*b2 + 1 - 2*b2**2\n",
    "    ma,mi = (x1,x2) if x1>x2 else (x2,x1)\n",
    "    return mi,ma\n",
    "    \n",
    "\n",
    "def MC_area(times):\n",
    "    sin = []\n",
    "    cos = []\n",
    "    for x,y in zip(X,Y):\n",
    "        sin = (3 - 5*x + x**2 + x**3 + y**2 + x*y**2)/(4*y)\n",
    "        cos = 1/4*(5 - x**2 - y**2)\n",
    "        # 以防求错\n",
    "        # assert sin**2 + cos**2 == 1\n",
    "    \n",
    "    \n",
    "    # 开始取样\n",
    "    inside = 0\n",
    "    # -3 到 3的二元均匀分布\n",
    "    dots = np.random.rand(2, times)*6\n",
    "    for i in range(times):\n",
    "        x = dots[0, i] - 3\n",
    "        y = dots[1, i] - 3\n",
    "        if np.abs(y) < 3/2*np.sqrt(3):\n",
    "            xmin, xmax = find_mm(y)\n",
    "            if x >= xmin and x <= xmax:\n",
    "                inside += 1 \n",
    "    return inside/times*36\n",
    "MC_area(n)"
   ]
  },
  {
   "cell_type": "markdown",
   "metadata": {},
   "source": [
    "可以看到这个估计值还是不错的，真实值是6pi"
   ]
  },
  {
   "cell_type": "markdown",
   "metadata": {},
   "source": [
    "###### 法二：利用x,y的方程直接判断是否在区域内"
   ]
  },
  {
   "cell_type": "code",
   "execution_count": 86,
   "metadata": {},
   "outputs": [
    {
     "data": {
      "text/plain": [
       "18.83628"
      ]
     },
     "execution_count": 86,
     "metadata": {},
     "output_type": "execute_result"
    }
   ],
   "source": [
    "from numpy.random import uniform\n",
    "n = 100000\n",
    "def MC_area2(times): \n",
    "    # 开始取样\n",
    "    inside = 0\n",
    "    # -3 到 3的二元均匀分布\n",
    "    dots = np.random.rand(2, times)*6\n",
    "    for i in range(times):\n",
    "        #x = dots[0, i] - 3\n",
    "        #y = dots[1, i] - 3\n",
    "        x = uniform(-3,3)\n",
    "        y = uniform(-3,3)\n",
    "        if (((x-1)**2+y**2+(x-1)*2) - 2*np.sqrt((x-1)**2 + y**2))<=0:\n",
    "            inside += 1\n",
    "    return inside/times*36\n",
    "MC_area2(n)"
   ]
  },
  {
   "cell_type": "markdown",
   "metadata": {},
   "source": [
    "#### 三、利用几种方法估计误差(sigma = 0.95)\n",
    "###### 法一：切比雪夫"
   ]
  },
  {
   "cell_type": "code",
   "execution_count": 25,
   "metadata": {},
   "outputs": [
    {
     "data": {
      "text/plain": [
       "0.00502518907629606"
      ]
     },
     "execution_count": 25,
     "metadata": {},
     "output_type": "execute_result"
    }
   ],
   "source": [
    "sigma = 0.99\n",
    "err = np.sqrt(1/(4*n*sigma))\n",
    "err "
   ]
  },
  {
   "cell_type": "markdown",
   "metadata": {},
   "source": [
    "###### 法二：中心极限定理"
   ]
  },
  {
   "cell_type": "code",
   "execution_count": 26,
   "metadata": {},
   "outputs": [
    {
     "data": {
      "text/plain": [
       "8.836810878193302e-05"
      ]
     },
     "execution_count": 26,
     "metadata": {},
     "output_type": "execute_result"
    }
   ],
   "source": [
    "def inv_normal(y):\n",
    "    c0 = 2.515517\n",
    "    c1 = 0.802853\n",
    "    c2 = 0.010328\n",
    "    d1 = 1.432788\n",
    "    d2 = 0.189269\n",
    "    d3 = 0.001308\n",
    "    t = np.sqrt(-np.log((min(y, 1 - y))**2))\n",
    "    S1 = c0 + c1 * t + c2 * t**2\n",
    "    S2 = 1 + d1 * t + d2 * t**2 + d3 * t**3\n",
    "    S = t - S1 / S2\n",
    "    w = y - 0.5\n",
    "    if (w >= 0):\n",
    "        F = S\n",
    "    else:\n",
    "        F = -S\n",
    "    return F\n",
    "err2 = inv_normal(1 - sigma/2) / np.sqrt(2 * n)\n",
    "err2"
   ]
  },
  {
   "cell_type": "markdown",
   "metadata": {},
   "source": [
    "###### 法三：其他定理"
   ]
  },
  {
   "cell_type": "code",
   "execution_count": 27,
   "metadata": {},
   "outputs": [
    {
     "data": {
      "text/plain": [
       "0.005929576360978273"
      ]
     },
     "execution_count": 27,
     "metadata": {},
     "output_type": "execute_result"
    }
   ],
   "source": [
    "err3 = np.sqrt(np.log(2/sigma)/(2*n))\n",
    "err3"
   ]
  },
  {
   "cell_type": "markdown",
   "metadata": {},
   "source": [
    "惊讶地发现这个估计比大数定律高"
   ]
  },
  {
   "cell_type": "markdown",
   "metadata": {},
   "source": [
    "##### 法四：真实误差的均值"
   ]
  },
  {
   "cell_type": "code",
   "execution_count": 91,
   "metadata": {},
   "outputs": [
    {
     "name": "stdout",
     "output_type": "stream",
     "text": [
      "真实误差均值 169.71016407846153\n"
     ]
    }
   ],
   "source": [
    "trueerror_e = np.abs((sum(mc)-100*6*np.pi)/100)\n",
    "print(\"真实误差均值\",trueerror_e)"
   ]
  },
  {
   "cell_type": "markdown",
   "metadata": {},
   "source": [
    "解释：观察这个真实的均值和3个估计的大小，  \n",
    "发现中心极限定理小了一个数量级，其他两个大了一个数量级。。"
   ]
  },
  {
   "cell_type": "markdown",
   "metadata": {},
   "source": [
    "#### 四、求置信区间（sigma = 0.99)\n",
    "###### 法一：用pearson法"
   ]
  },
  {
   "cell_type": "code",
   "execution_count": 87,
   "metadata": {},
   "outputs": [
    {
     "data": {
      "text/plain": [
       "(18.68204001630823, 18.974601317234647)"
      ]
     },
     "execution_count": 87,
     "metadata": {},
     "output_type": "execute_result"
    }
   ],
   "source": [
    "sigma = 0.01\n",
    "from scipy.stats import f\n",
    "x = MC_area2(n)*n/36\n",
    "ma = 1/(1+(n-x+1)/(x*f.isf(sigma/2, 2*x, 2*(n-x+1))))\n",
    "mi = 1/(1+(n-x)/((x+1)*f.isf(1-sigma/2, 2*x+2, 2*(n-x))))\n",
    "(mi*36,ma*36)"
   ]
  },
  {
   "cell_type": "markdown",
   "metadata": {},
   "source": [
    "##### 法二：用切比雪夫法"
   ]
  },
  {
   "cell_type": "code",
   "execution_count": 88,
   "metadata": {},
   "outputs": [
    {
     "data": {
      "text/plain": [
       "(18.738721617204902, 19.031640883971388)"
      ]
     },
     "execution_count": 88,
     "metadata": {},
     "output_type": "execute_result"
    }
   ],
   "source": [
    "beta = inv_normal(1 - sigma/2)\n",
    "S = MC_area2(n)*n/36\n",
    "mi =(S+beta**2/2+beta*(-1)*np.sqrt(beta**2/4+S*(n-S)/n))/(n+beta**2)\n",
    "ma = (S+beta**2/2+beta*(+1)*np.sqrt(beta**2/4+S*(n-S)/n))/(n+beta**2)\n",
    "(mi*36,ma*36)"
   ]
  },
  {
   "cell_type": "markdown",
   "metadata": {},
   "source": [
    "##### 法三：渔民法"
   ]
  },
  {
   "cell_type": "code",
   "execution_count": 21,
   "metadata": {},
   "outputs": [
    {
     "name": "stderr",
     "output_type": "stream",
     "text": [
      "F:\\ana36\\lib\\site-packages\\ipykernel_launcher.py:20: RuntimeWarning: invalid value encountered in double_scalars\n"
     ]
    },
    {
     "name": "stdout",
     "output_type": "stream",
     "text": [
      "需要解一个蛮复杂的方程...\n"
     ]
    }
   ],
   "source": [
    "xbar = MC_area(n)/36\n",
    "d = lambda eps,mu:(eps+mu)*np.log(mu/(mu+eps))+(1-mu-eps)*np.log((1-mu)/(1-mu-eps))\n",
    "print(\"需要解一个蛮复杂的方程...\")"
   ]
  },
  {
   "cell_type": "markdown",
   "metadata": {},
   "source": [
    "画实际频率图，对比求到的置信区间"
   ]
  },
  {
   "cell_type": "code",
   "execution_count": 90,
   "metadata": {},
   "outputs": [
    {
     "name": "stderr",
     "output_type": "stream",
     "text": [
      "F:\\ana36\\lib\\site-packages\\matplotlib\\axes\\_axes.py:6462: UserWarning: The 'normed' kwarg is deprecated, and has been replaced by the 'density' kwarg.\n",
      "  warnings.warn(\"The 'normed' kwarg is deprecated, and has been \"\n"
     ]
    },
    {
     "data": {
      "image/png": "[encoded data removed]",
      "text/plain": [
       "<Figure size 432x288 with 1 Axes>"
      ]
     },
     "metadata": {},
     "output_type": "display_data"
    }
   ],
   "source": [
    "T = 1000\n",
    "n = 1000\n",
    "mc = np.zeros(T)\n",
    "for i in range(T):\n",
    "    mc[i] = (MC_area2(n))\n",
    "plt.hist(mc, bins=50, normed=True, label=\"Stat. of the Sampling\");"
   ]
  },
  {
   "cell_type": "markdown",
   "metadata": {},
   "source": [
    "这个图是100个点的频率图"
   ]
  },
  {
   "cell_type": "code",
   "execution_count": 84,
   "metadata": {},
   "outputs": [
    {
     "name": "stdout",
     "output_type": "stream",
     "text": [
      "[18.802799999999998, 18.9648, 19.022399999999998, 18.802799999999998, 18.7704, 19.0116]\n"
     ]
    }
   ],
   "source": [
    "real = 6*np.pi\n",
    "mc1 = list(map(lambda x:np.abs(x-real),mc))\n",
    "ran = np.argsort((mc1))\n",
    "chosen = []\n",
    "us = 0\n",
    "for i in range(100):\n",
    "    if us >= 0.99:\n",
    "        break\n",
    "    us += mc[ran[i]]/100\n",
    "    chosen.append(ran[i])\n",
    "    \n",
    "chosen1 = [mc[i]  for i in range(len(chosen))]\n",
    "#plt.hist(mc, bins=50, normed=True, label=\"Stat. of the Sampling\");\n",
    "print(chosen1)"
   ]
  },
  {
   "cell_type": "markdown",
   "metadata": {},
   "source": [
    "输出的囊括概率为99的数，可以看到，真实的置信区间  \n",
    "大概是(18.80,19.02)，比预估的要小了很多"
   ]
  },
  {
   "cell_type": "code",
   "execution_count": null,
   "metadata": {},
   "outputs": [],
   "source": []
  },
  {
   "cell_type": "code",
   "execution_count": null,
   "metadata": {},
   "outputs": [],
   "source": [
    "real = \n",
    "p = real/36\n",
    "def real_district(sigma=0.01, m=10000, tol=0.01)\n",
    "    width = 10/tol\n",
    "    inside = np.zeros(width+1)\n",
    "    retur = 0\n",
    "    from tqdm import tqdm\n",
    "    for i in tqdm(range(m)):\n",
    "        f[i] = comb(m,i)*p**i*(1 - p)**(m - i)\n",
    "        inside[np.abs()]\n",
    "    "
   ]
  },
  {
   "cell_type": "code",
   "execution_count": 26,
   "metadata": {},
   "outputs": [
    {
     "ename": "SyntaxError",
     "evalue": "unexpected EOF while parsing (<ipython-input-26-a3682689a749>, line 1)",
     "output_type": "error",
     "traceback": [
      "\u001b[1;36m  File \u001b[1;32m\"<ipython-input-26-a3682689a749>\"\u001b[1;36m, line \u001b[1;32m1\u001b[0m\n\u001b[1;33m    def MC_district():\u001b[0m\n\u001b[1;37m                      ^\u001b[0m\n\u001b[1;31mSyntaxError\u001b[0m\u001b[1;31m:\u001b[0m unexpected EOF while parsing\n"
     ]
    }
   ],
   "source": [
    "\n",
    "def MC_district(sigma=0.01, m=10000, tol=0.01):\n",
    "    width = 10/tol\n",
    "    inside = np.zeros(width+1)\n",
    "    retur = 0\n",
    "    from tqdm import tqdm\n",
    "    for i in tqdm(range(m)):\n",
    "        inside[np.abs(MC_area(times)-real)/tol] += 1\n",
    "    for i in tqdm(range(width)):\n",
    "        retur += inside/m \n",
    "        if retur>=0.99:\n",
    "            return i*tol\n",
    "\n",
    "        \n",
    "    \n",
    "    \n",
    "    \n",
    "    "
   ]
  },
  {
   "cell_type": "code",
   "execution_count": null,
   "metadata": {},
   "outputs": [],
   "source": []
  }
 ],
 "metadata": {
  "kernelspec": {
   "display_name": "Python 3",
   "language": "python",
   "name": "python3"
  },
  "language_info": {
   "codemirror_mode": {
    "name": "ipython",
    "version": 3
   },
   "file_extension": ".py",
   "mimetype": "text/x-python",
   "name": "python",
   "nbconvert_exporter": "python",
   "pygments_lexer": "ipython3",
   "version": "3.6.5"
  }
 },
 "nbformat": 4,
 "nbformat_minor": 2
}
